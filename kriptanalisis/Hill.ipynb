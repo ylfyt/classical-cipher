{
 "cells": [
  {
   "cell_type": "code",
   "execution_count": 2,
   "metadata": {
    "collapsed": true
   },
   "outputs": [
    {
     "name": "stdout",
     "output_type": "stream",
     "text": [
      "['A', 'B', 'C', 'D', 'E', 'F', 'G', 'H', 'I', 'J', 'K', 'L', 'M']\n",
      "['N', 'O', 'P', 'Q', 'R', 'S', 'T', 'U', 'V', 'W', 'X', 'Y', 'Z']\n"
     ]
    }
   ],
   "source": [
    "import string\n",
    "\n",
    "alphabet = list(string.ascii_uppercase)\n",
    "print(alphabet[:13])\n",
    "print(alphabet[13:26])"
   ]
  },
  {
   "cell_type": "markdown",
   "source": [
    "# Kriptanalisis Hill Cipher dengan known-plaintext attack\n",
    "\n",
    ">### Surat Tintin kepada Kapten Haddock selalalu dimulai dengan\n",
    ">### kata ‘Hello Captain Haddock’ dan diakhir dengan “Tintin”\n",
    ">\n",
    "> plaintext = HEL LOC APT\n",
    "> chiphertext = TFJ OXU POU\n",
    ">\n",
    "> P = (8, 5, 12); (12, 15, 3); (1, 16, 20)\n",
    "> C = (20, 6, 10); (15, 24, 21); (16, 15, 21)"
   ],
   "metadata": {
    "collapsed": false
   }
  },
  {
   "cell_type": "code",
   "execution_count": 18,
   "outputs": [
    {
     "name": "stdout",
     "output_type": "stream",
     "text": [
      "\n",
      "> plaintext = HEL LOC APT\n",
      "> chiphertext = TFJ OXU POU\n",
      "\n",
      "> P = (8, 5, 12); (12, 15, 3); (1, 16, 20)\n",
      "> C = (20, 6, 10); (15, 24, 21); (16, 15, 21)\n",
      "\n",
      "( 20   15   16 )       ( 8   12   1  )\n",
      "( 6    24   15 )  =  K ( 5   15   16 )             --> K = C(P^-1) mod 26\n",
      "( 10   21   21 )       ( 12  3    20 )\n",
      "\n",
      " <----- C ----->        <----- P ----->\n",
      "\n",
      "                   (  252  -237   177  )\n",
      " P^-1 =  2955^-1   (  92    148  -123  )   mod 26\n",
      "                   ( -165   120    60  )\n",
      "\n",
      "              ( 18   23  21 )\n",
      " P^-1 =   23  ( 14   18   7 )   mod 26\n",
      "              ( 17   16   8 )\n",
      "\n",
      "          ( 414   529  483 )\n",
      " P^-1 =   ( 322   414  161 )   mod 26\n",
      "          ( 391   368  184 )\n",
      "\n",
      "          ( 24   9  15 )\n",
      " P^-1 =   ( 10  24   5 )\n",
      "          ( 1    4   2 )\n",
      "\n",
      "        ( 20   15   16 )  ( 24   9  15 )\n",
      " K =    ( 6    24   15 )  ( 10  24   5 )   mod 26\n",
      "        ( 10   21   21 )  ( 1    4   2 )\n",
      "\n",
      "\n",
      "         ( 646   604   407 )\n",
      " K   =   ( 399   690   240 )   mod 26\n",
      "         ( 471   678   297 )\n",
      "\n",
      "         ( 22   6  17 )\n",
      " K   =   ( 9   14   6 )\n",
      "         ( 3    2  11 )\n",
      "\n"
     ]
    }
   ],
   "source": [
    "print(\"\"\"\n",
    "> plaintext = HEL LOC APT\n",
    "> chiphertext = TFJ OXU POU\n",
    "\n",
    "> P = (8, 5, 12); (12, 15, 3); (1, 16, 20)\n",
    "> C = (20, 6, 10); (15, 24, 21); (16, 15, 21)\n",
    "\n",
    "( 20   15   16 )       ( 8   12   1  )\n",
    "( 6    24   15 )  =  K ( 5   15   16 )             --> K = C(P^-1) mod 26\n",
    "( 10   21   21 )       ( 12  3    20 )\n",
    "\n",
    " <----- C ----->        <----- P ----->\n",
    "\n",
    "                   (  252  -237   177  )\n",
    " P^-1 =  2955^-1   (  92    148  -123  )   mod 26\n",
    "                   ( -165   120    60  )\n",
    "\n",
    "              ( 18   23  21 )\n",
    " P^-1 =   23  ( 14   18   7 )   mod 26\n",
    "              ( 17   16   8 )\n",
    "\n",
    "          ( 414   529  483 )\n",
    " P^-1 =   ( 322   414  161 )   mod 26\n",
    "          ( 391   368  184 )\n",
    "\n",
    "          ( 24   9  15 )\n",
    " P^-1 =   ( 10  24   5 )\n",
    "          ( 1    4   2 )\n",
    "\n",
    "        ( 20   15   16 )  ( 24   9  15 )\n",
    " K =    ( 6    24   15 )  ( 10  24   5 )   mod 26\n",
    "        ( 10   21   21 )  ( 1    4   2 )\n",
    "\n",
    "\n",
    "         ( 646   604   407 )\n",
    " K   =   ( 399   690   240 )   mod 26\n",
    "         ( 471   678   297 )\n",
    "\n",
    "         ( 22   6  17 )\n",
    " K   =   ( 9   14   6 )\n",
    "         ( 3    2  11 )\n",
    "\"\"\")"
   ],
   "metadata": {
    "collapsed": false
   }
  },
  {
   "cell_type": "code",
   "execution_count": 19,
   "outputs": [
    {
     "name": "stdout",
     "output_type": "stream",
     "text": [
      "22 6 17 \n",
      "\n",
      "9 14 6 \n",
      "\n",
      "3 2 11 \n",
      "\n",
      "60\n",
      "2955\n"
     ]
    }
   ],
   "source": [
    "num = [[646, 604, 407], [399, 690, 240], [471, 678, 297]]\n",
    "for x in num:\n",
    "    for i in range(0,3):\n",
    "        print((x[i])%26, end =\" \")\n",
    "    print(\"\\n\")\n",
    "\n",
    "angka1 = 8\n",
    "angka2 = 12\n",
    "angka3 = 5\n",
    "angka4 = 15\n",
    "angka = angka1 * angka4 - angka2 * angka3\n",
    "print(angka)\n",
    "\n",
    "det = 8*252 + 12*92 - 165\n",
    "print(det)"
   ],
   "metadata": {
    "collapsed": false
   }
  }
 ],
 "metadata": {
  "kernelspec": {
   "display_name": "Python 3",
   "language": "python",
   "name": "python3"
  },
  "language_info": {
   "codemirror_mode": {
    "name": "ipython",
    "version": 2
   },
   "file_extension": ".py",
   "mimetype": "text/x-python",
   "name": "python",
   "nbconvert_exporter": "python",
   "pygments_lexer": "ipython2",
   "version": "2.7.6"
  }
 },
 "nbformat": 4,
 "nbformat_minor": 0
}
