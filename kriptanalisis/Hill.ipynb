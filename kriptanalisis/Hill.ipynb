{
 "cells": [
  {
   "cell_type": "code",
   "execution_count": 2,
   "metadata": {
    "collapsed": true
   },
   "outputs": [
    {
     "name": "stdout",
     "output_type": "stream",
     "text": [
      "['A', 'B', 'C', 'D', 'E', 'F', 'G', 'H', 'I', 'J', 'K', 'L', 'M']\n",
      "['N', 'O', 'P', 'Q', 'R', 'S', 'T', 'U', 'V', 'W', 'X', 'Y', 'Z']\n"
     ]
    }
   ],
   "source": [
    "import string\n",
    "\n",
    "alphabet = list(string.ascii_uppercase)\n",
    "print(alphabet[:13])\n",
    "print(alphabet[13:26])"
   ]
  },
  {
   "cell_type": "markdown",
   "source": [
    "# Kriptanalisis Hill Cipher dengan known-plaintext attack\n",
    "\n",
    ">### Surat Tintin kepada Kapten Haddock selalalu dimulai dengan\n",
    ">### kata ‘Hello Captain Haddock’ dan diakhir dengan “Tintin”\n",
    ">\n",
    "> TFJOXUPOUXYTTRDSXQMONIYPEUFJDQUBGIMOCJQTNBEHCZEKROVBNTWLMVXMOWZLUCHOXYGSKBQGUAOBQZKIXYJIETSWVXHVKCUAOTOFYIZAKJGXKAWGQTRVFDZAJNQDUIWZCMYWNFIUPYMCZXIAKYUCQIAZPIQMGAMGUAKKKHMWKDUXQDUAAKYOWEHLJPWYFKXSARBLLHGAJKTQNTRTPWSCIZASCGSLKVDHTUZSWBNBTJGYYUPQMFSYZAUTOQCDNGQMFSRLRTUWEMKADIVYLTJKFHLKJUWTSSHMHJFGTRIBYIDAHQEPMPIQCROWDYRYZNSPNOJHQVKKTOCBPNFAJNLYJZNVBAYJWRGMCHJPWBDHHTPOXSIJVQWDMSIGMTRVEVXDILKVAYTNUNJXEZLAPGYETRVZNVHSVWLGICDXQFOALDVPASUSYXPFHUWTILUQHTJQVGWFSPAEKBRBNIINYKHNTNUKJVDHVLXQKUZNVQXUOZZOJZYNPIVYSVFVTZMMUUPWTGHRIOWCBKZYAGUMRCKHIQZSIGISPGBXPYXMOAWGAGHQVUWTEIGPBMOMBWIOPQEVKMRQATNBMILHHLVUXGMOUWTZCLBKGWIJHFRNGOSCMUHDWHBB\n",
    ">\n",
    "> plaintext = HEL LOC APT\n",
    "> chiphertext = TFJ OXU POU\n",
    ">\n",
    "> P = (8, 5, 12); (12, 15, 3); (1, 16, 20)\n",
    "> C = (20, 6, 10); (15, 24, 21); (16, 15, 21)"
   ],
   "metadata": {
    "collapsed": false
   }
  },
  {
   "cell_type": "code",
   "execution_count": 9,
   "outputs": [
    {
     "name": "stdout",
     "output_type": "stream",
     "text": [
      "\n",
      "> plaintext = HEL LOC APT\n",
      "> chiphertext = TFJ OXU POU\n",
      "\n",
      "> P = (7, 4, 11); (11, 14, 2); (0, 15, 19)\n",
      "> C = (19, 5, 9); (14, 23, 20); (15, 14, 20)\n",
      "\n",
      "( 19   14   15 )       ( 7   11   0  )\n",
      "( 5    23   14 )  =  K ( 4   14   15 )             --> K = C(P^-1) mod 26\n",
      "( 9    20   20 )       ( 11  2    19 )\n",
      "\n",
      " <----- C ----->        <----- P ----->\n",
      "\n",
      "                   (  236  -209   165  )\n",
      " P^-1 =  2631^-1   (  89    133  -105  )   mod 26\n",
      "                   ( -146   107    54  )\n",
      "\n",
      "              ( 2   25   9 )\n",
      " P^-1 =   21  ( 11   3  25 )   mod 26\n",
      "              ( 10   3   2 )\n",
      "\n",
      "          ( 16   5   7 )\n",
      " P^-1 =   ( 23  11   5 )\n",
      "          ( 2   11  16 )\n",
      "\n",
      "        ( 19   14   15 )  ( 16   5   7 )\n",
      " K =    ( 5    23   14 )  ( 23  11   5 )   mod 26\n",
      "        ( 9    20   20 )  ( 2   11  16 )\n",
      "\n",
      "\n",
      "         ( 656   414   443 )\n",
      " K   =   ( 637   432   374 )   mod 26\n",
      "         ( 644   485   483 )\n",
      "\n",
      "         ( 6    24   1 )\n",
      " K   =   ( 13   16  10 )\n",
      "         ( 20   17  15 )\n",
      "\n"
     ]
    }
   ],
   "source": [
    "print(\"\"\"\n",
    "> plaintext = HEL LOC APT\n",
    "> chiphertext = TFJ OXU POU\n",
    "\n",
    "> P = (7, 4, 11); (11, 14, 2); (0, 15, 19)\n",
    "> C = (19, 5, 9); (14, 23, 20); (15, 14, 20)\n",
    "\n",
    "( 19   14   15 )       ( 7   11   0  )\n",
    "( 5    23   14 )  =  K ( 4   14   15 )             --> K = C(P^-1) mod 26\n",
    "( 9    20   20 )       ( 11  2    19 )\n",
    "\n",
    " <----- C ----->        <----- P ----->\n",
    "\n",
    "                   (  236  -209   165  )\n",
    " P^-1 =  2631^-1   (  89    133  -105  )   mod 26\n",
    "                   ( -146   107    54  )\n",
    "\n",
    "              ( 2   25   9 )\n",
    " P^-1 =   21  ( 11   3  25 )   mod 26\n",
    "              ( 10   3   2 )\n",
    "\n",
    "          ( 16   5   7 )\n",
    " P^-1 =   ( 23  11   5 )\n",
    "          ( 2   11  16 )\n",
    "\n",
    "        ( 19   14   15 )  ( 16   5   7 )\n",
    " K =    ( 5    23   14 )  ( 23  11   5 )   mod 26\n",
    "        ( 9    20   20 )  ( 2   11  16 )\n",
    "\n",
    "\n",
    "         ( 656   414   443 )\n",
    " K   =   ( 637   432   374 )   mod 26\n",
    "         ( 644   485   483 )\n",
    "\n",
    "         ( 6    24   1 )\n",
    " K   =   ( 13   16  10 )\n",
    "         ( 20   17  15 )\n",
    "\"\"\")"
   ],
   "metadata": {
    "collapsed": false
   }
  },
  {
   "cell_type": "code",
   "execution_count": 8,
   "outputs": [
    {
     "name": "stdout",
     "output_type": "stream",
     "text": [
      "6 24 1 \n",
      "\n",
      "13 16 10 \n",
      "\n",
      "20 17 15 \n",
      "\n",
      "21\n",
      "47\n",
      "0\n"
     ]
    }
   ],
   "source": [
    "# Code pembantu\n",
    "num = [[236, -209, 165], [89, 133, -105], [-146, 107, 54]]\n",
    "num1 = [[656, 414, 443], [637, 432, 374], [644, 485, 483]]\n",
    "for x in num1:\n",
    "    for i in range(0,3):\n",
    "        print((x[i])%26, end =\" \")\n",
    "    print(\"\\n\")\n",
    "\n",
    "angka1 = 8\n",
    "angka2 = 12\n",
    "angka3 = 5\n",
    "angka4 = 15\n",
    "angka = angka1 * angka4 - angka2 * angka3\n",
    "# print(angka)\n",
    "\n",
    "det = 0\n",
    "for i in range(0,50):\n",
    "    if 2631*i % 26 == 1:\n",
    "        print(i)\n",
    "print(det)"
   ],
   "metadata": {
    "collapsed": false
   }
  }
 ],
 "metadata": {
  "kernelspec": {
   "display_name": "Python 3",
   "language": "python",
   "name": "python3"
  },
  "language_info": {
   "codemirror_mode": {
    "name": "ipython",
    "version": 2
   },
   "file_extension": ".py",
   "mimetype": "text/x-python",
   "name": "python",
   "nbconvert_exporter": "python",
   "pygments_lexer": "ipython2",
   "version": "2.7.6"
  }
 },
 "nbformat": 4,
 "nbformat_minor": 0
}
